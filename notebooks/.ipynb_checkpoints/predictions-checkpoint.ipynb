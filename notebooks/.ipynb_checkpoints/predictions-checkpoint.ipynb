{
 "cells": [
  {
   "cell_type": "markdown",
   "id": "4cefd1fa-7686-4ef4-a84e-0f77d137cca8",
   "metadata": {},
   "source": [
    "## Predictions for created models"
   ]
  },
  {
   "cell_type": "code",
   "execution_count": 30,
   "id": "35d9a641-f47a-4e5a-ab59-551d6b534196",
   "metadata": {},
   "outputs": [],
   "source": [
    "import pandas as pd\n",
    "import numpy as np\n",
    "import os\n",
    "import pickle\n",
    "import sys\n",
    "\n",
    "sys.path.append(os.path.join(os.environ['PWD'],'scripts'))\n",
    "from Data_Prep import Data_Prep\n",
    "from utils import get_metrics_score\n",
    "from utils import make_confusion_matrix"
   ]
  },
  {
   "cell_type": "code",
   "execution_count": 31,
   "id": "4cbf9e3b-4039-4285-96f1-8dcac0ab9668",
   "metadata": {},
   "outputs": [],
   "source": [
    "train = pd.read_csv(os.path.join(os.environ['PWD'],'data/train.csv'))\n",
    "test = pd.read_csv(os.path.join(os.environ['PWD'],'data/test.csv'))"
   ]
  },
  {
   "cell_type": "code",
   "execution_count": 32,
   "id": "253e5b8f-8bb5-41fb-869f-f25c09140a36",
   "metadata": {},
   "outputs": [],
   "source": [
    "X_train = train.drop('Attrition_Flag',axis=1)\n",
    "y_train = train['Attrition_Flag'].map({'Existing Customer': 0, 'Attrited Customer': 1}).astype('int')\n",
    "X_test = test.drop('Attrition_Flag',axis=1)\n",
    "y_test = test['Attrition_Flag'].map({'Existing Customer': 0, 'Attrited Customer': 1}).astype('int')"
   ]
  },
  {
   "cell_type": "code",
   "execution_count": 33,
   "id": "42ed440a-2615-4f6d-a686-9bc802965a66",
   "metadata": {},
   "outputs": [],
   "source": [
    "models = {}"
   ]
  },
  {
   "cell_type": "code",
   "execution_count": 34,
   "id": "04c44664-7cf9-40e9-bfdb-538a522d0ea3",
   "metadata": {},
   "outputs": [],
   "source": [
    "model_path = os.path.join(os.environ['PWD'],'models')\n",
    "for filename in os.listdir(model_path):\n",
    "    f = os.path.join(model_path, filename)\n",
    "    pickle_off = open(f, 'rb')\n",
    "    models[filename] = pickle.load(pickle_off)"
   ]
  },
  {
   "cell_type": "code",
   "execution_count": 35,
   "id": "e335a4e2-e179-4151-bbc1-6e32293d0e40",
   "metadata": {},
   "outputs": [],
   "source": [
    "estimator_score = pd.DataFrame()\n",
    "for model in models:\n",
    "    score = get_metrics_score(models[model],X_train, X_test, y_train, y_test,flag=False)\n",
    "    score.insert(0, 'model', model)\n",
    "\n",
    "    estimator_score = pd.concat((estimator_score,score), axis=0)\n",
    "    \n",
    "estimator_score.set_index('model', drop=True, inplace=True)"
   ]
  },
  {
   "cell_type": "code",
   "execution_count": 36,
   "id": "80b58994-b575-4f73-87f4-1f43d0976df3",
   "metadata": {},
   "outputs": [
    {
     "data": {
      "text/html": [
       "<div>\n",
       "<style scoped>\n",
       "    .dataframe tbody tr th:only-of-type {\n",
       "        vertical-align: middle;\n",
       "    }\n",
       "\n",
       "    .dataframe tbody tr th {\n",
       "        vertical-align: top;\n",
       "    }\n",
       "\n",
       "    .dataframe thead th {\n",
       "        text-align: right;\n",
       "    }\n",
       "</style>\n",
       "<table border=\"1\" class=\"dataframe\">\n",
       "  <thead>\n",
       "    <tr style=\"text-align: right;\">\n",
       "      <th></th>\n",
       "      <th>Accuracy Training</th>\n",
       "      <th>Accuracy Test</th>\n",
       "      <th>Recall Training</th>\n",
       "      <th>Recall Test</th>\n",
       "      <th>Precision Training</th>\n",
       "      <th>Precision Test</th>\n",
       "      <th>F1 Training</th>\n",
       "      <th>F1 Test</th>\n",
       "      <th>AUC Training</th>\n",
       "      <th>AUC Test</th>\n",
       "      <th>Logloss Training</th>\n",
       "      <th>Logloss Test</th>\n",
       "    </tr>\n",
       "    <tr>\n",
       "      <th>model</th>\n",
       "      <th></th>\n",
       "      <th></th>\n",
       "      <th></th>\n",
       "      <th></th>\n",
       "      <th></th>\n",
       "      <th></th>\n",
       "      <th></th>\n",
       "      <th></th>\n",
       "      <th></th>\n",
       "      <th></th>\n",
       "      <th></th>\n",
       "      <th></th>\n",
       "    </tr>\n",
       "  </thead>\n",
       "  <tbody>\n",
       "    <tr>\n",
       "      <th>xgboost_calibrated.pkl</th>\n",
       "      <td>0.996791</td>\n",
       "      <td>0.970879</td>\n",
       "      <td>0.998464</td>\n",
       "      <td>0.883077</td>\n",
       "      <td>0.981873</td>\n",
       "      <td>0.931818</td>\n",
       "      <td>0.990099</td>\n",
       "      <td>0.906793</td>\n",
       "      <td>0.999891</td>\n",
       "      <td>0.993521</td>\n",
       "      <td>0.023349</td>\n",
       "      <td>0.075264</td>\n",
       "    </tr>\n",
       "    <tr>\n",
       "      <th>xgboost_ros.pkl</th>\n",
       "      <td>0.993704</td>\n",
       "      <td>0.967423</td>\n",
       "      <td>1.000000</td>\n",
       "      <td>0.920000</td>\n",
       "      <td>0.962306</td>\n",
       "      <td>0.882006</td>\n",
       "      <td>0.980791</td>\n",
       "      <td>0.900602</td>\n",
       "      <td>0.999911</td>\n",
       "      <td>0.993439</td>\n",
       "      <td>0.030054</td>\n",
       "      <td>0.078613</td>\n",
       "    </tr>\n",
       "    <tr>\n",
       "      <th>xgboost_ros_selected.pkl</th>\n",
       "      <td>0.992223</td>\n",
       "      <td>0.967423</td>\n",
       "      <td>0.997696</td>\n",
       "      <td>0.920000</td>\n",
       "      <td>0.955850</td>\n",
       "      <td>0.882006</td>\n",
       "      <td>0.976325</td>\n",
       "      <td>0.900602</td>\n",
       "      <td>0.999840</td>\n",
       "      <td>0.993472</td>\n",
       "      <td>0.034918</td>\n",
       "      <td>0.079076</td>\n",
       "    </tr>\n",
       "  </tbody>\n",
       "</table>\n",
       "</div>"
      ],
      "text/plain": [
       "                          Accuracy Training  Accuracy Test  Recall Training  \\\n",
       "model                                                                         \n",
       "xgboost_calibrated.pkl             0.996791       0.970879         0.998464   \n",
       "xgboost_ros.pkl                    0.993704       0.967423         1.000000   \n",
       "xgboost_ros_selected.pkl           0.992223       0.967423         0.997696   \n",
       "\n",
       "                          Recall Test  Precision Training  Precision Test  \\\n",
       "model                                                                       \n",
       "xgboost_calibrated.pkl       0.883077            0.981873        0.931818   \n",
       "xgboost_ros.pkl              0.920000            0.962306        0.882006   \n",
       "xgboost_ros_selected.pkl     0.920000            0.955850        0.882006   \n",
       "\n",
       "                          F1 Training   F1 Test  AUC Training  AUC Test  \\\n",
       "model                                                                     \n",
       "xgboost_calibrated.pkl       0.990099  0.906793      0.999891  0.993521   \n",
       "xgboost_ros.pkl              0.980791  0.900602      0.999911  0.993439   \n",
       "xgboost_ros_selected.pkl     0.976325  0.900602      0.999840  0.993472   \n",
       "\n",
       "                          Logloss Training  Logloss Test  \n",
       "model                                                     \n",
       "xgboost_calibrated.pkl            0.023349      0.075264  \n",
       "xgboost_ros.pkl                   0.030054      0.078613  \n",
       "xgboost_ros_selected.pkl          0.034918      0.079076  "
      ]
     },
     "execution_count": 36,
     "metadata": {},
     "output_type": "execute_result"
    }
   ],
   "source": [
    "estimator_score"
   ]
  },
  {
   "cell_type": "code",
   "execution_count": 37,
   "id": "3c602f7d-cf06-4e71-8036-6eb68e4d4503",
   "metadata": {},
   "outputs": [],
   "source": [
    "best_estimator = estimator_score.sort_values('Logloss Test').index.values[0]"
   ]
  },
  {
   "cell_type": "code",
   "execution_count": 38,
   "id": "076e609a-6b08-4749-97cb-3be749dc0800",
   "metadata": {},
   "outputs": [
    {
     "data": {
      "image/png": "[encoded data removed]",
      "text/plain": [
       "<Figure size 720x504 with 2 Axes>"
      ]
     },
     "metadata": {
      "needs_background": "light"
     },
     "output_type": "display_data"
    }
   ],
   "source": [
    "# Confusion matrix\n",
    "make_confusion_matrix(models[best_estimator],X_test,y_test)"
   ]
  },
  {
   "cell_type": "code",
   "execution_count": 39,
   "id": "e9433b33-2877-4153-bc8e-910846ecea6d",
   "metadata": {},
   "outputs": [
    {
     "name": "stdout",
     "output_type": "stream",
     "text": [
      "estimator pickled successfully!\n"
     ]
    }
   ],
   "source": [
    "model_path = os.path.join(os.environ['PWD'],'model/model.pkl')\n",
    "pickling_on = open(model_path,\"wb\")\n",
    "pickle.dump(models[best_estimator], pickling_on)\n",
    "pickling_on.close()\n",
    "print('estimator pickled successfully!')"
   ]
  },
  {
   "cell_type": "code",
   "execution_count": null,
   "id": "73825d75-5fcc-4166-b427-7db43bf66a20",
   "metadata": {},
   "outputs": [],
   "source": []
  }
 ],
 "metadata": {
  "kernelspec": {
   "display_name": "Python 3 (ipykernel)",
   "language": "python",
   "name": "python3"
  },
  "language_info": {
   "codemirror_mode": {
    "name": "ipython",
    "version": 3
   },
   "file_extension": ".py",
   "mimetype": "text/x-python",
   "name": "python",
   "nbconvert_exporter": "python",
   "pygments_lexer": "ipython3",
   "version": "3.9.7"
  }
 },
 "nbformat": 4,
 "nbformat_minor": 5
}
