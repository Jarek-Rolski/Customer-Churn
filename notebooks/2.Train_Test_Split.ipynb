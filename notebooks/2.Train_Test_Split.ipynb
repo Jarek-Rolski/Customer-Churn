{
 "cells": [
  {
   "cell_type": "markdown",
   "id": "af73614d-d2f4-459b-bf94-3185ce73c930",
   "metadata": {},
   "source": [
    "## Split dataset to train and test files"
   ]
  },
  {
   "cell_type": "code",
   "execution_count": 3,
   "id": "e2dbbcbe-d9fb-46e7-ad7b-422f0d84023b",
   "metadata": {},
   "outputs": [],
   "source": [
    "import warnings\n",
    "warnings.filterwarnings('ignore')\n",
    "\n",
    "import pandas as pd\n",
    "import numpy as np\n",
    "\n",
    "from sklearn.model_selection import train_test_split\n",
    "\n",
    "import os"
   ]
  },
  {
   "cell_type": "code",
   "execution_count": 4,
   "id": "c1e82c55-4006-4aa0-8993-47108ce6d965",
   "metadata": {},
   "outputs": [],
   "source": [
    "churners = pd.read_csv(os.path.join(os.environ['PWD'],'data/BankChurners.csv'))"
   ]
  },
  {
   "cell_type": "code",
   "execution_count": 5,
   "id": "ba968716-8283-4264-8c3d-ca583464f2a4",
   "metadata": {},
   "outputs": [],
   "source": [
    "X = churners.drop('Attrition_Flag',axis=1)\n",
    "y = churners[['Attrition_Flag']]"
   ]
  },
  {
   "cell_type": "code",
   "execution_count": 6,
   "id": "a349eb73-88e1-4f42-bfda-5de882673f0b",
   "metadata": {},
   "outputs": [],
   "source": [
    "X_train, X_test, y_train, y_test = train_test_split(X,y,test_size=0.2,random_state=1,stratify=y)"
   ]
  },
  {
   "cell_type": "code",
   "execution_count": 18,
   "id": "4891b0a4-8d01-492e-afec-e5c5d44091c4",
   "metadata": {},
   "outputs": [],
   "source": [
    "train = pd.concat((X_train,y_train), axis=1)"
   ]
  },
  {
   "cell_type": "code",
   "execution_count": 20,
   "id": "2500ca35-07a1-436e-a5d1-38d9fdfef780",
   "metadata": {},
   "outputs": [],
   "source": [
    "train.to_csv(os.path.join(os.environ['PWD'],'data/train.csv'),index=False)"
   ]
  },
  {
   "cell_type": "code",
   "execution_count": 21,
   "id": "046e4dcc-fea7-4f04-a545-c688abff8462",
   "metadata": {},
   "outputs": [],
   "source": [
    "test = pd.concat((X_test,y_test), axis=1)"
   ]
  },
  {
   "cell_type": "code",
   "execution_count": 22,
   "id": "ba97f5c3-6c12-4e88-8dfa-87c956435ab4",
   "metadata": {},
   "outputs": [],
   "source": [
    "test.to_csv(os.path.join(os.environ['PWD'],'data/test.csv'),index=False)"
   ]
  }
 ],
 "metadata": {
  "kernelspec": {
   "display_name": "Python 3 (ipykernel)",
   "language": "python",
   "name": "python3"
  },
  "language_info": {
   "codemirror_mode": {
    "name": "ipython",
    "version": 3
   },
   "file_extension": ".py",
   "mimetype": "text/x-python",
   "name": "python",
   "nbconvert_exporter": "python",
   "pygments_lexer": "ipython3",
   "version": "3.9.7"
  }
 },
 "nbformat": 4,
 "nbformat_minor": 5
}
